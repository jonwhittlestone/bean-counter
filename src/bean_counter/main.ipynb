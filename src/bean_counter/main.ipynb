{
 "cells": [
  {
   "attachments": {},
   "cell_type": "markdown",
   "id": "571face8",
   "metadata": {},
   "source": [
    "# bean-counter\n",
    "\n",
    "This experimental project aims to answer simple financial questions from the household budget.\n",
    "\n",
    "* Munge the Google Budget spreadsheets to a single CSV\n",
    "* Use Sketch to generate Python code to run analysis and plots"
   ]
  },
  {
   "attachments": {},
   "cell_type": "markdown",
   "id": "f08b8ae5",
   "metadata": {},
   "source": []
  }
 ],
 "metadata": {
  "kernelspec": {
   "display_name": "Python 3 (ipykernel)",
   "language": "python",
   "name": "python3"
  },
  "language_info": {
   "codemirror_mode": {
    "name": "ipython",
    "version": 3
   },
   "file_extension": ".py",
   "mimetype": "text/x-python",
   "name": "python",
   "nbconvert_exporter": "python",
   "pygments_lexer": "ipython3",
   "version": "3.11.3"
  }
 },
 "nbformat": 4,
 "nbformat_minor": 5
}
