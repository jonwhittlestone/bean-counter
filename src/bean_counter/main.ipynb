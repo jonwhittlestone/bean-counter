{
 "cells": [
  {
   "attachments": {},
   "cell_type": "markdown",
   "id": "571face8",
   "metadata": {},
   "source": [
    "# bean-counter\n",
    "\n",
    "This experimental project aims to answer simple financial questions from the household budget.\n",
    "\n",
    "* Munge the Google Budget spreadsheets to a single CSV\n",
    "\n",
    "* Use Sketch to generate Python code to run analysis and plots"
   ]
  },
  {
   "cell_type": "code",
   "execution_count": 11,
   "id": "86a2abeb-ccce-4e09-b940-84f07549332d",
   "metadata": {},
   "outputs": [],
   "source": [
    "import os\n",
    "import sketch\n",
    "import pandas as pd\n",
    "\n",
    "os.environ['SKETCH_MAX_COLUMNS'] = '30'\n",
    "\n",
    "LAMBDA_URL = \"https://ixbcimiswyj7g3yp2q2k7d3lgy0dwexa.lambda-url.eu-west-2.on.aws\"\n",
    "csv_url = f\"{LAMBDA_URL}/summary\"\n",
    "budget_data = pd.read_csv(csv_url)\n",
    "\n"
   ]
  },
  {
   "cell_type": "code",
   "execution_count": 57,
   "id": "ea861870",
   "metadata": {},
   "outputs": [
    {
     "data": {
      "text/html": [
       "<div style=\"display:flex;flex-direction:row;justify-content:space-between;\">\n",
       "                <pre style=\"width: 100%; white-space: pre-wrap;\" id=\"27b19cf5-630d-4e4b-9911-d2e373eefa18\">\n",
       "# Get the rows between 10 and 15\n",
       "budget_data_rows_10_15 = budget_data.iloc[10:16]\n",
       "\n",
       "# Print the rows\n",
       "print(budget_data_rows_10_15)\n",
       "</pre>\n",
       "                <button style=\"height: fit-content;\" onclick=\"navigator.clipboard.writeText(JSON.parse(atob(`IlxuIyBHZXQgdGhlIHJvd3MgYmV0d2VlbiAxMCBhbmQgMTVcbmJ1ZGdldF9kYXRhX3Jvd3NfMTBfMTUgPSBidWRnZXRfZGF0YS5pbG9jWzEwOjE2XVxuXG4jIFByaW50IHRoZSByb3dzXG5wcmludChidWRnZXRfZGF0YV9yb3dzXzEwXzE1KVxuIg==`)))\">Copy</button>\n",
       "                </div>"
      ],
      "text/plain": [
       "<IPython.core.display.HTML object>"
      ]
     },
     "metadata": {},
     "output_type": "display_data"
    }
   ],
   "source": [
    "budget_data.sketch.howto(\"Show budget data rows between 10 and 15\")"
   ]
  },
  {
   "cell_type": "code",
   "execution_count": 61,
   "id": "566967c5",
   "metadata": {},
   "outputs": [
    {
     "name": "stdout",
     "output_type": "stream",
     "text": [
      "   direction                   name  category        date    val\n",
      "0  Incomings  carry over from joint       NaN  2023-07-01  200.0\n",
      "\n",
      "    direction                       name  category        date    val\n",
      "10  Outgoings  takeaways and hello fresh       NaN  2023-07-01  200.5\n",
      "11  Outgoings                     petrol       NaN  2023-07-01  400.0\n",
      "12  Outgoings            Presents budget       NaN  2023-07-01  100.0\n",
      "13  Outgoings             national trust       NaN  2023-07-01   10.0\n",
      "14  Outgoings                   cleaners       NaN  2023-07-01  301.0\n",
      "15  Outgoings            window cleaning       NaN  2023-07-01   25.0\n"
     ]
    }
   ],
   "source": [
    "print(budget_data.head(1))\n",
    "print(\"\")\n",
    "...\n",
    "print(budget_data.iloc[10:16])"
   ]
  },
  {
   "cell_type": "code",
   "execution_count": 31,
   "id": "3660bff0",
   "metadata": {},
   "outputs": [
    {
     "data": {
      "text/html": [
       "<div style=\"display:flex;flex-direction:row;justify-content:space-between;\">\n",
       "                <pre style=\"width: 100%; white-space: pre-wrap;\" id=\"b936d0af-e994-40d9-936f-d510ee26a057\">\n",
       "# Remove the columns from the budget_data dataframe that have the title Unnamed\n",
       "budget_data = budget_data.loc[:, ~budget_data.columns.str.contains('^Unnamed')]\n",
       "</pre>\n",
       "                <button style=\"height: fit-content;\" onclick=\"navigator.clipboard.writeText(JSON.parse(atob(`IlxuIyBSZW1vdmUgdGhlIGNvbHVtbnMgZnJvbSB0aGUgYnVkZ2V0X2RhdGEgZGF0YWZyYW1lIHRoYXQgaGF2ZSB0aGUgdGl0bGUgVW5uYW1lZFxuYnVkZ2V0X2RhdGEgPSBidWRnZXRfZGF0YS5sb2NbOiwgfmJ1ZGdldF9kYXRhLmNvbHVtbnMuc3RyLmNvbnRhaW5zKCdeVW5uYW1lZCcpXVxuIg==`)))\">Copy</button>\n",
       "                </div>"
      ],
      "text/plain": [
       "<IPython.core.display.HTML object>"
      ]
     },
     "metadata": {},
     "output_type": "display_data"
    }
   ],
   "source": [
    "budget_data.sketch.howto(\"Remove the columns from the budget_data dataframe that have the title Unnamed\")"
   ]
  },
  {
   "cell_type": "code",
   "execution_count": 32,
   "id": "2c48bf11",
   "metadata": {},
   "outputs": [],
   "source": [
    "# Remove the columns from the budget_data dataframe that have the title Unnamed\n",
    "budget_data = budget_data.loc[:, ~budget_data.columns.str.contains('^Unnamed')]"
   ]
  },
  {
   "cell_type": "code",
   "execution_count": 23,
   "id": "0f392bda",
   "metadata": {},
   "outputs": [
    {
     "data": {
      "text/html": [
       "\n",
       "The name of the biggest outgoing cost in 2023 is \"Mortgage\" and the value is 1657.34.\n"
      ],
      "text/plain": [
       "<IPython.core.display.HTML object>"
      ]
     },
     "metadata": {},
     "output_type": "display_data"
    }
   ],
   "source": [
    "budget_data.sketch.ask(\"What is the name and value of the biggest outgoing cost in 2023?\")"
   ]
  },
  {
   "cell_type": "code",
   "execution_count": 33,
   "id": "0342eb73",
   "metadata": {},
   "outputs": [
    {
     "data": {
      "text/html": [
       "<div style=\"display:flex;flex-direction:row;justify-content:space-between;\">\n",
       "                <pre style=\"width: 100%; white-space: pre-wrap;\" id=\"37ba3e84-6e7e-4444-95b7-3e634ae78745\">\n",
       "# Get the top 5 outgoings in 2022 and don't show category\n",
       "outgoings_2022 = budget_data[(budget_data['direction'] == 'Outgoings') & (budget_data['date'].str.contains('2022'))].sort_values(by='val', ascending=False).head(5)\n",
       "outgoings_2022 = outgoings_2022.drop(columns=['category'])\n",
       "print(outgoings_2022)\n",
       "</pre>\n",
       "                <button style=\"height: fit-content;\" onclick=\"navigator.clipboard.writeText(JSON.parse(atob(`IlxuIyBHZXQgdGhlIHRvcCA1IG91dGdvaW5ncyBpbiAyMDIyIGFuZCBkb24ndCBzaG93IGNhdGVnb3J5XG5vdXRnb2luZ3NfMjAyMiA9IGJ1ZGdldF9kYXRhWyhidWRnZXRfZGF0YVsnZGlyZWN0aW9uJ10gPT0gJ091dGdvaW5ncycpICYgKGJ1ZGdldF9kYXRhWydkYXRlJ10uc3RyLmNvbnRhaW5zKCcyMDIyJykpXS5zb3J0X3ZhbHVlcyhieT0ndmFsJywgYXNjZW5kaW5nPUZhbHNlKS5oZWFkKDUpXG5vdXRnb2luZ3NfMjAyMiA9IG91dGdvaW5nc18yMDIyLmRyb3AoY29sdW1ucz1bJ2NhdGVnb3J5J10pXG5wcmludChvdXRnb2luZ3NfMjAyMilcbiI=`)))\">Copy</button>\n",
       "                </div>"
      ],
      "text/plain": [
       "<IPython.core.display.HTML object>"
      ]
     },
     "metadata": {},
     "output_type": "display_data"
    }
   ],
   "source": [
    "budget_data.sketch.howto(\"Get the top 5 outgoings in 2022 and don't show category\")"
   ]
  },
  {
   "cell_type": "code",
   "execution_count": 34,
   "id": "9af9b16c",
   "metadata": {},
   "outputs": [
    {
     "name": "stdout",
     "output_type": "stream",
     "text": [
      "     direction      name        date      val\n",
      "202  Outgoings  Mortgage  2022-12-01  1657.34\n",
      "305  Outgoings  Mortgage  2022-08-01  1657.34\n",
      "262  Outgoings  Mortgage  2022-10-01  1657.34\n",
      "234  Outgoings  Mortgage  2022-11-01  1657.34\n",
      "284  Outgoings  Mortgage  2022-09-01  1657.34\n"
     ]
    }
   ],
   "source": [
    "\n",
    "# Get the top 5 outgoings in 2022 and don't show category\n",
    "outgoings_2022 = budget_data[(budget_data['direction'] == 'Outgoings') & (budget_data['date'].str.contains('2022'))].sort_values(by='val', ascending=False).head(5)\n",
    "outgoings_2022 = outgoings_2022.drop(columns=['category'])\n",
    "print(outgoings_2022)\n"
   ]
  },
  {
   "cell_type": "code",
   "execution_count": 51,
   "id": "a6244baf",
   "metadata": {},
   "outputs": [
    {
     "data": {
      "text/html": [
       "<div style=\"display:flex;flex-direction:row;justify-content:space-between;\">\n",
       "                <pre style=\"width: 100%; white-space: pre-wrap;\" id=\"95e47fed-5a1c-4c4a-a822-b3364afddba4\">\n",
       "# Sum the total values of bright orizons fee in 2023\n",
       "bright_orizons_2023 = budget_data[(budget_data['name'] == 'Bright Orizons Fee') & (budget_data['date'].str.contains('2023'))]['val'].sum()\n",
       "\n",
       "# Sum the total values of bright orizons fee in 2022\n",
       "bright_orizons_2022 = budget_data[(budget_data['name'] == 'Bright Orizons Fee') & (budget_data['date'].str.contains('2022'))]['val'].sum()\n",
       "\n",
       "# Calculate the difference between 2023 and 2022\n",
       "difference = bright_orizons_2023 - bright_orizons_2022\n",
       "\n",
       "print(\"The difference between Bright Orizons Fee in 2023 and 2022 is: {}\".format(difference))\n",
       "</pre>\n",
       "                <button style=\"height: fit-content;\" onclick=\"navigator.clipboard.writeText(JSON.parse(atob(`IlxuIyBTdW0gdGhlIHRvdGFsIHZhbHVlcyBvZiBicmlnaHQgb3Jpem9ucyBmZWUgaW4gMjAyM1xuYnJpZ2h0X29yaXpvbnNfMjAyMyA9IGJ1ZGdldF9kYXRhWyhidWRnZXRfZGF0YVsnbmFtZSddID09ICdCcmlnaHQgT3Jpem9ucyBGZWUnKSAmIChidWRnZXRfZGF0YVsnZGF0ZSddLnN0ci5jb250YWlucygnMjAyMycpKV1bJ3ZhbCddLnN1bSgpXG5cbiMgU3VtIHRoZSB0b3RhbCB2YWx1ZXMgb2YgYnJpZ2h0IG9yaXpvbnMgZmVlIGluIDIwMjJcbmJyaWdodF9vcml6b25zXzIwMjIgPSBidWRnZXRfZGF0YVsoYnVkZ2V0X2RhdGFbJ25hbWUnXSA9PSAnQnJpZ2h0IE9yaXpvbnMgRmVlJykgJiAoYnVkZ2V0X2RhdGFbJ2RhdGUnXS5zdHIuY29udGFpbnMoJzIwMjInKSldWyd2YWwnXS5zdW0oKVxuXG4jIENhbGN1bGF0ZSB0aGUgZGlmZmVyZW5jZSBiZXR3ZWVuIDIwMjMgYW5kIDIwMjJcbmRpZmZlcmVuY2UgPSBicmlnaHRfb3Jpem9uc18yMDIzIC0gYnJpZ2h0X29yaXpvbnNfMjAyMlxuXG5wcmludChcIlRoZSBkaWZmZXJlbmNlIGJldHdlZW4gQnJpZ2h0IE9yaXpvbnMgRmVlIGluIDIwMjMgYW5kIDIwMjIgaXM6IHt9XCIuZm9ybWF0KGRpZmZlcmVuY2UpKVxuIg==`)))\">Copy</button>\n",
       "                </div>"
      ],
      "text/plain": [
       "<IPython.core.display.HTML object>"
      ]
     },
     "metadata": {},
     "output_type": "display_data"
    }
   ],
   "source": [
    "budget_data.sketch.howto(\"How to sum the total values of bright orizons fee in 2023 compared with 2022\")"
   ]
  },
  {
   "cell_type": "code",
   "execution_count": 50,
   "id": "e1a2527a",
   "metadata": {},
   "outputs": [
    {
     "name": "stdout",
     "output_type": "stream",
     "text": [
      "The sum in 2023: 5130.08\n",
      "The sum in 2022: 3623.66\n",
      "The difference between 2022 and 2023 is: 1506.42\n"
     ]
    }
   ],
   "source": [
    "\n",
    "# Sum the total values of bright orizons fee in 2022 compared with 2021\n",
    "\n",
    "# Get the data for Bright Orizons Fee in 2021 and 2022\n",
    "bright_orizons_2023 = budget_data[(budget_data['name'] == 'bright orizons fee') & (budget_data['date'].str.contains('2023'))]\n",
    "bright_orizons_2022 = budget_data[(budget_data['name'] == 'bright orizons fee') & (budget_data['date'].str.contains('2022'))]\n",
    "\n",
    "# Sum the total values of Bright Orizons Fee in 2021 and 2022\n",
    "total_bright_orizons_2023 = bright_orizons_2023['val'].sum()\n",
    "total_bright_orizons_2022 = bright_orizons_2022['val'].sum()\n",
    "\n",
    "\n",
    "print(\"The sum in 2023:\", total_bright_orizons_2023)\n",
    "print(\"The sum in 2022:\", total_bright_orizons_2022)\n",
    "\n",
    "# Calculate the difference between 2021 and 2022\n",
    "difference = total_bright_orizons_2023 - total_bright_orizons_2022\n",
    "\n",
    "print(\"The difference between 2022 and 2023 is:\", difference)\n"
   ]
  },
  {
   "cell_type": "code",
   "execution_count": 73,
   "id": "de9742ee",
   "metadata": {},
   "outputs": [
    {
     "data": {
      "text/html": [
       "<div style=\"display:flex;flex-direction:row;justify-content:space-between;\">\n",
       "                <pre style=\"width: 100%; white-space: pre-wrap;\" id=\"8ae66394-4f90-4e25-933b-52f469267781\">\n",
       "# filter dataframe to only include gas and electricity expenses\n",
       "gas_elec_expenses = budget_data[budget_data['name'].str.contains('gas|electricity', case=False)]\n",
       "\n",
       "# group by year and sum up expenses\n",
       "yearly_expenses = gas_elec_expenses.groupby(gas_elec_expenses['date'].dt.year).sum()\n",
       "\n",
       "# print out the total expenses for each year\n",
       "print(f\"2021: {yearly_expenses.loc[2021, 'val']}\")\n",
       "print(f\"2022: {yearly_expenses.loc[2022, 'val']}\")\n",
       "print(f\"2023: {yearly_expenses.loc[2023, 'val']}\")\n",
       "</pre>\n",
       "                <button style=\"height: fit-content;\" onclick=\"navigator.clipboard.writeText(JSON.parse(atob(`IlxuIyBmaWx0ZXIgZGF0YWZyYW1lIHRvIG9ubHkgaW5jbHVkZSBnYXMgYW5kIGVsZWN0cmljaXR5IGV4cGVuc2VzXG5nYXNfZWxlY19leHBlbnNlcyA9IGJ1ZGdldF9kYXRhW2J1ZGdldF9kYXRhWyduYW1lJ10uc3RyLmNvbnRhaW5zKCdnYXN8ZWxlY3RyaWNpdHknLCBjYXNlPUZhbHNlKV1cblxuIyBncm91cCBieSB5ZWFyIGFuZCBzdW0gdXAgZXhwZW5zZXNcbnllYXJseV9leHBlbnNlcyA9IGdhc19lbGVjX2V4cGVuc2VzLmdyb3VwYnkoZ2FzX2VsZWNfZXhwZW5zZXNbJ2RhdGUnXS5kdC55ZWFyKS5zdW0oKVxuXG4jIHByaW50IG91dCB0aGUgdG90YWwgZXhwZW5zZXMgZm9yIGVhY2ggeWVhclxucHJpbnQoZlwiMjAyMToge3llYXJseV9leHBlbnNlcy5sb2NbMjAyMSwgJ3ZhbCddfVwiKVxucHJpbnQoZlwiMjAyMjoge3llYXJseV9leHBlbnNlcy5sb2NbMjAyMiwgJ3ZhbCddfVwiKVxucHJpbnQoZlwiMjAyMzoge3llYXJseV9leHBlbnNlcy5sb2NbMjAyMywgJ3ZhbCddfVwiKVxuIg==`)))\">Copy</button>\n",
       "                </div>"
      ],
      "text/plain": [
       "<IPython.core.display.HTML object>"
      ]
     },
     "metadata": {},
     "output_type": "display_data"
    }
   ],
   "source": [
    "\n",
    "budget_data.sketch.howto(\"how much did I spend on gas and electricity in 2021, 2022 and 2023\")"
   ]
  },
  {
   "cell_type": "code",
   "execution_count": 74,
   "id": "5c4dad53",
   "metadata": {},
   "outputs": [
    {
     "ename": "AttributeError",
     "evalue": "Can only use .dt accessor with datetimelike values",
     "output_type": "error",
     "traceback": [
      "\u001b[0;31m---------------------------------------------------------------------------\u001b[0m",
      "\u001b[0;31mAttributeError\u001b[0m                            Traceback (most recent call last)",
      "Cell \u001b[0;32mIn[74], line 5\u001b[0m\n\u001b[1;32m      2\u001b[0m gas_elec_expenses \u001b[39m=\u001b[39m budget_data[budget_data[\u001b[39m'\u001b[39m\u001b[39mname\u001b[39m\u001b[39m'\u001b[39m]\u001b[39m.\u001b[39mstr\u001b[39m.\u001b[39mcontains(\u001b[39m'\u001b[39m\u001b[39mgas|electricity\u001b[39m\u001b[39m'\u001b[39m, case\u001b[39m=\u001b[39m\u001b[39mFalse\u001b[39;00m)]\n\u001b[1;32m      4\u001b[0m \u001b[39m# group by year and sum up expenses\u001b[39;00m\n\u001b[0;32m----> 5\u001b[0m yearly_expenses \u001b[39m=\u001b[39m gas_elec_expenses\u001b[39m.\u001b[39mgroupby(gas_elec_expenses[\u001b[39m'\u001b[39;49m\u001b[39mdate\u001b[39;49m\u001b[39m'\u001b[39;49m]\u001b[39m.\u001b[39;49mdt\u001b[39m.\u001b[39myear)\u001b[39m.\u001b[39msum()\n\u001b[1;32m      7\u001b[0m \u001b[39m# print out the total expenses for each year\u001b[39;00m\n\u001b[1;32m      8\u001b[0m \u001b[39mprint\u001b[39m(\u001b[39mf\u001b[39m\u001b[39m\"\u001b[39m\u001b[39m2021: \u001b[39m\u001b[39m{\u001b[39;00myearly_expenses\u001b[39m.\u001b[39mloc[\u001b[39m2021\u001b[39m,\u001b[39m \u001b[39m\u001b[39m'\u001b[39m\u001b[39mval\u001b[39m\u001b[39m'\u001b[39m]\u001b[39m}\u001b[39;00m\u001b[39m\"\u001b[39m)\n",
      "File \u001b[0;32m~/code/playground/bean-counter-fresh/.venv/lib/python3.11/site-packages/pandas/core/generic.py:5989\u001b[0m, in \u001b[0;36mNDFrame.__getattr__\u001b[0;34m(self, name)\u001b[0m\n\u001b[1;32m   5982\u001b[0m \u001b[39mif\u001b[39;00m (\n\u001b[1;32m   5983\u001b[0m     name \u001b[39mnot\u001b[39;00m \u001b[39min\u001b[39;00m \u001b[39mself\u001b[39m\u001b[39m.\u001b[39m_internal_names_set\n\u001b[1;32m   5984\u001b[0m     \u001b[39mand\u001b[39;00m name \u001b[39mnot\u001b[39;00m \u001b[39min\u001b[39;00m \u001b[39mself\u001b[39m\u001b[39m.\u001b[39m_metadata\n\u001b[1;32m   5985\u001b[0m     \u001b[39mand\u001b[39;00m name \u001b[39mnot\u001b[39;00m \u001b[39min\u001b[39;00m \u001b[39mself\u001b[39m\u001b[39m.\u001b[39m_accessors\n\u001b[1;32m   5986\u001b[0m     \u001b[39mand\u001b[39;00m \u001b[39mself\u001b[39m\u001b[39m.\u001b[39m_info_axis\u001b[39m.\u001b[39m_can_hold_identifiers_and_holds_name(name)\n\u001b[1;32m   5987\u001b[0m ):\n\u001b[1;32m   5988\u001b[0m     \u001b[39mreturn\u001b[39;00m \u001b[39mself\u001b[39m[name]\n\u001b[0;32m-> 5989\u001b[0m \u001b[39mreturn\u001b[39;00m \u001b[39mobject\u001b[39;49m\u001b[39m.\u001b[39;49m\u001b[39m__getattribute__\u001b[39;49m(\u001b[39mself\u001b[39;49m, name)\n",
      "File \u001b[0;32m~/code/playground/bean-counter-fresh/.venv/lib/python3.11/site-packages/pandas/core/accessor.py:224\u001b[0m, in \u001b[0;36mCachedAccessor.__get__\u001b[0;34m(self, obj, cls)\u001b[0m\n\u001b[1;32m    221\u001b[0m \u001b[39mif\u001b[39;00m obj \u001b[39mis\u001b[39;00m \u001b[39mNone\u001b[39;00m:\n\u001b[1;32m    222\u001b[0m     \u001b[39m# we're accessing the attribute of the class, i.e., Dataset.geo\u001b[39;00m\n\u001b[1;32m    223\u001b[0m     \u001b[39mreturn\u001b[39;00m \u001b[39mself\u001b[39m\u001b[39m.\u001b[39m_accessor\n\u001b[0;32m--> 224\u001b[0m accessor_obj \u001b[39m=\u001b[39m \u001b[39mself\u001b[39;49m\u001b[39m.\u001b[39;49m_accessor(obj)\n\u001b[1;32m    225\u001b[0m \u001b[39m# Replace the property with the accessor object. Inspired by:\u001b[39;00m\n\u001b[1;32m    226\u001b[0m \u001b[39m# https://www.pydanny.com/cached-property.html\u001b[39;00m\n\u001b[1;32m    227\u001b[0m \u001b[39m# We need to use object.__setattr__ because we overwrite __setattr__ on\u001b[39;00m\n\u001b[1;32m    228\u001b[0m \u001b[39m# NDFrame\u001b[39;00m\n\u001b[1;32m    229\u001b[0m \u001b[39mobject\u001b[39m\u001b[39m.\u001b[39m\u001b[39m__setattr__\u001b[39m(obj, \u001b[39mself\u001b[39m\u001b[39m.\u001b[39m_name, accessor_obj)\n",
      "File \u001b[0;32m~/code/playground/bean-counter-fresh/.venv/lib/python3.11/site-packages/pandas/core/indexes/accessors.py:580\u001b[0m, in \u001b[0;36mCombinedDatetimelikeProperties.__new__\u001b[0;34m(cls, data)\u001b[0m\n\u001b[1;32m    577\u001b[0m \u001b[39melif\u001b[39;00m is_period_dtype(data\u001b[39m.\u001b[39mdtype):\n\u001b[1;32m    578\u001b[0m     \u001b[39mreturn\u001b[39;00m PeriodProperties(data, orig)\n\u001b[0;32m--> 580\u001b[0m \u001b[39mraise\u001b[39;00m \u001b[39mAttributeError\u001b[39;00m(\u001b[39m\"\u001b[39m\u001b[39mCan only use .dt accessor with datetimelike values\u001b[39m\u001b[39m\"\u001b[39m)\n",
      "\u001b[0;31mAttributeError\u001b[0m: Can only use .dt accessor with datetimelike values"
     ]
    }
   ],
   "source": [
    "\n",
    "# filter dataframe to only include gas and electricity expenses\n",
    "gas_elec_expenses = budget_data[budget_data['name'].str.contains('gas|electricity', case=False)]\n",
    "\n",
    "# group by year and sum up expenses\n",
    "yearly_expenses = gas_elec_expenses.groupby(gas_elec_expenses['date'].dt.year).sum()\n",
    "\n",
    "# print out the total expenses for each year\n",
    "print(f\"2021: {yearly_expenses.loc[2021, 'val']}\")\n",
    "print(f\"2022: {yearly_expenses.loc[2022, 'val']}\")\n",
    "print(f\"2023: {yearly_expenses.loc[2023, 'val']}\")\n"
   ]
  }
 ],
 "metadata": {
  "kernelspec": {
   "display_name": "Python 3 (ipykernel)",
   "language": "python",
   "name": "python3"
  },
  "language_info": {
   "codemirror_mode": {
    "name": "ipython",
    "version": 3
   },
   "file_extension": ".py",
   "mimetype": "text/x-python",
   "name": "python",
   "nbconvert_exporter": "python",
   "pygments_lexer": "ipython3",
   "version": "3.11.3"
  }
 },
 "nbformat": 4,
 "nbformat_minor": 5
}
